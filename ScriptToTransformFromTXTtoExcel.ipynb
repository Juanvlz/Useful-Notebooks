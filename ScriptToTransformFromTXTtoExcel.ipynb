{
 "cells": [
  {
   "cell_type": "code",
   "execution_count": 10,
   "id": "769be011",
   "metadata": {},
   "outputs": [],
   "source": [
    "def isfloat(num):\n",
    "    try:\n",
    "        # Reemplazamos la coma por un punto en el valor\n",
    "        num_con_punto = num.replace(',', '.')\n",
    "        float(num_con_punto)\n",
    "        return True\n",
    "    except ValueError:\n",
    "        return False"
   ]
  },
  {
   "cell_type": "code",
   "execution_count": null,
   "id": "ceb39a16",
   "metadata": {},
   "outputs": [],
   "source": [
    "import os\n",
    "import openpyxl\n",
    "\n",
    "# Se establece la ruta de la carpeta\n",
    "carpeta = r'xxx'\n",
    "\n",
    "ruta_del_archivo = r'xxx'\n",
    "if os.path.exists(ruta_del_archivo):\n",
    "    os.remove(ruta_del_archivo)\n",
    "    print(\"Archivo eliminado exitosamente\")\n",
    "else:\n",
    "    print(\"El archivo no existe\")\n",
    "# Se crea un libro de Excel\n",
    "libro = openpyxl.Workbook()\n",
    "i = 0\n",
    "# Se itera sobre los archivos de la carpeta\n",
    "for indice, archivo in enumerate(os.listdir(carpeta)):\n",
    "    if archivo.endswith('.txt'):\n",
    "        # Se abre el archivo y se lee su contenido\n",
    "        with open(os.path.join(carpeta, archivo), 'r') as archivo_txt:\n",
    "            contenido = archivo_txt.read()\n",
    "        # Se crea una hoja en el libro de Excel y se le asigna un nombre\n",
    "        print(i)\n",
    "        hoja = libro.create_sheet(f'Hoja{i}')\n",
    "        i = i + 1\n",
    "        # Se separan las líneas del archivo de texto en una lista\n",
    "        lineas = contenido.splitlines()\n",
    "        # Se escribe cada línea en una fila separada de la hoja\n",
    "        for fila, linea in enumerate(lineas, start=1):\n",
    "            # Se divide la línea en columnas utilizando el carácter de tabulación (\\t) como separador\n",
    "            columnas = linea.split('\\t')\n",
    "            # Se escriben las columnas en las celdas correspondientes de la fila actual\n",
    "            for columna, valor in enumerate(columnas, start=1):\n",
    "                                # Verificamos si el valor es un dígito\n",
    "                if isfloat(valor):\n",
    "                    # Reemplazamos cualquier coma en el valor por un punto antes de convertirlo a float\n",
    "                    valor_con_punto = valor.replace(',', '.')\n",
    "                    # Convertimos el valor a float antes de escribirlo en la celda\n",
    "                    hoja.cell(row=fila, column=columna, value=float(valor_con_punto))\n",
    "                    print(f'Float: {valor}')\n",
    "                else:\n",
    "                    # Si el valor no es un dígito, se escribe tal cual en la celda\n",
    "                    hoja.cell(row=fila, column=columna, value=valor)\n",
    "                    print(f'No Float:'+valor)\n",
    "\n",
    "\n",
    "# Se elimina la primera hoja del libro de Excel (la que tiene el nombre predeterminado \"Sheet\")\n",
    "hoja_predeterminada = libro.active\n",
    "libro.remove(hoja_predeterminada)\n",
    "\n",
    "# Se guarda el libro de Excel con el nombre 'todosCopias'\n",
    "libro.save(os.path.join(carpeta, 'excel.xlsx'))"
   ]
  }
 ],
 "metadata": {
  "kernelspec": {
   "display_name": "Python 3 (ipykernel)",
   "language": "python",
   "name": "python3"
  },
  "language_info": {
   "codemirror_mode": {
    "name": "ipython",
    "version": 3
   },
   "file_extension": ".py",
   "mimetype": "text/x-python",
   "name": "python",
   "nbconvert_exporter": "python",
   "pygments_lexer": "ipython3",
   "version": "3.10.9"
  }
 },
 "nbformat": 4,
 "nbformat_minor": 5
}
